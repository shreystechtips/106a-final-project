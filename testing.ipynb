{
 "cells": [
  {
   "cell_type": "code",
   "execution_count": 1,
   "metadata": {},
   "outputs": [],
   "source": [
    "import numpy as np"
   ]
  },
  {
   "cell_type": "code",
   "execution_count": 14,
   "metadata": {},
   "outputs": [],
   "source": [
    "offset = 150\n",
    "\n",
    "\n",
    "rate_theta = 15/180 * np.pi\n",
    "rate_r = 3\n",
    "steps = 50"
   ]
  },
  {
   "cell_type": "code",
   "execution_count": 15,
   "metadata": {},
   "outputs": [
    {
     "data": {
      "text/plain": [
       "(array([ 0.        ,  0.26714223,  0.53428446,  0.8014267 ,  1.06856893,\n",
       "         1.33571116,  1.60285339,  1.86999563,  2.13713786,  2.40428009,\n",
       "         2.67142232,  2.93856456,  3.20570679,  3.47284902,  3.73999125,\n",
       "         4.00713349,  4.27427572,  4.54141795,  4.80856018,  5.07570242,\n",
       "         5.34284465,  5.60998688,  5.87712911,  6.14427135,  6.41141358,\n",
       "         6.67855581,  6.94569804,  7.21284028,  7.47998251,  7.74712474,\n",
       "         8.01426697,  8.28140921,  8.54855144,  8.81569367,  9.0828359 ,\n",
       "         9.34997814,  9.61712037,  9.8842626 , 10.15140483, 10.41854707,\n",
       "        10.6856893 , 10.95283153, 11.21997376, 11.487116  , 11.75425823,\n",
       "        12.02140046, 12.28854269, 12.55568493, 12.82282716, 13.08996939]),\n",
       " array([  0.        ,   3.06122449,   6.12244898,   9.18367347,\n",
       "         12.24489796,  15.30612245,  18.36734694,  21.42857143,\n",
       "         24.48979592,  27.55102041,  30.6122449 ,  33.67346939,\n",
       "         36.73469388,  39.79591837,  42.85714286,  45.91836735,\n",
       "         48.97959184,  52.04081633,  55.10204082,  58.16326531,\n",
       "         61.2244898 ,  64.28571429,  67.34693878,  70.40816327,\n",
       "         73.46938776,  76.53061224,  79.59183673,  82.65306122,\n",
       "         85.71428571,  88.7755102 ,  91.83673469,  94.89795918,\n",
       "         97.95918367, 101.02040816, 104.08163265, 107.14285714,\n",
       "        110.20408163, 113.26530612, 116.32653061, 119.3877551 ,\n",
       "        122.44897959, 125.51020408, 128.57142857, 131.63265306,\n",
       "        134.69387755, 137.75510204, 140.81632653, 143.87755102,\n",
       "        146.93877551, 150.        ]))"
      ]
     },
     "execution_count": 15,
     "metadata": {},
     "output_type": "execute_result"
    }
   ],
   "source": [
    "thetas = np.linspace(0, steps*rate_theta, num=steps)\n",
    "rads = np.linspace(0, steps*rate_r, num=steps)\n",
    "thetas, rads"
   ]
  },
  {
   "cell_type": "code",
   "execution_count": null,
   "metadata": {},
   "outputs": [],
   "source": []
  },
  {
   "cell_type": "code",
   "execution_count": 16,
   "metadata": {},
   "outputs": [
    {
     "data": {
      "text/plain": [
       "[(150.0, 150.0),\n",
       " (152.95264045805126, 150.8080901573495),\n",
       " (155.2691829684491, 153.11770626466176),\n",
       " (156.38892138309325, 156.59708586824445),\n",
       " (155.89443762207898, 160.73280630358343),\n",
       " (153.56519094517927, 164.88512001790946),\n",
       " (149.41129755480634, 168.35791009348202),\n",
       " (143.68381769119492, 170.47656012398872),\n",
       " (136.86003974262215, 170.66619337366734),\n",
       " (129.60458579486377, 168.52257554801588),\n",
       " (122.70945503432787, 163.8685144543046),\n",
       " (117.01816698723266, 156.78978878360806),\n",
       " (113.34078149080398, 147.64640008234116),\n",
       " (112.36760744360686, 137.05711974937313),\n",
       " (114.58976681502878, 125.85771179727337),\n",
       " (120.2344104195403, 115.03564476876427),\n",
       " (129.22130557229204, 105.6463499317918),\n",
       " (141.1458119222977, 98.71793766416596),\n",
       " (155.29106469287223, 95.15257949055439),\n",
       " (170.66967316889622, 95.63337382031695),\n",
       " (186.09262588846894, 100.54536920322289),\n",
       " (200.2605953015162, 109.91851273765283),\n",
       " (211.870671249269, 123.39868045383471),\n",
       " (219.7299187174937, 140.25074925721339),\n",
       " (222.86620509721809, 159.39505677682078),\n",
       " (220.62657612496713, 179.47577573946356),\n",
       " (212.75411507331688, 198.95693532245525),\n",
       " (199.43566629570262, 216.23928915439228),\n",
       " (181.31494494569108, 229.78917845521747),\n",
       " (159.46823248995457, 238.26915534608435),\n",
       " (135.34286678264903, 240.65955153806175),\n",
       " (110.66183731408435, 236.36047483497637),\n",
       " (87.30073793300238, 225.26489355753094),\n",
       " (67.14586407643, 207.79545852254574),\n",
       " (51.94414880458736, 184.900376818451),\n",
       " (43.15673601630215, 158.00679574140275),\n",
       " (41.8281745356785, 128.93353887780808),\n",
       " (48.48243871540984, 99.76839319868856),\n",
       " (63.05527157237327, 72.71820445326217),\n",
       " (84.86981281465883, 49.94254257923954),\n",
       " (112.65929311846182, 33.38343079703856),\n",
       " (144.63698115853586, 24.60442847724177),\n",
       " (178.6098343658118, 24.65212557662268),\n",
       " (212.12872037985497, 33.95183131174156),\n",
       " (242.6649322440354, 52.24698990855782),\n",
       " (267.800278577267, 78.58877885518267),\n",
       " (285.41650437149275, 111.3786566600605),\n",
       " (293.86933684460803, 148.4625984510042),\n",
       " (292.1331227322656, 187.2716939622131),\n",
       " (279.9038105676659, 224.9999999999999)]"
      ]
     },
     "execution_count": 16,
     "metadata": {},
     "output_type": "execute_result"
    }
   ],
   "source": [
    "x = rads*np.cos(thetas) + offset\n",
    "y = rads*np.sin(thetas) + offset\n",
    "\n",
    "list(zip(x, y))"
   ]
  },
  {
   "cell_type": "code",
   "execution_count": 17,
   "metadata": {},
   "outputs": [
    {
     "data": {
      "text/plain": [
       "<matplotlib.collections.PathCollection at 0x7ff1e2fe1730>"
      ]
     },
     "execution_count": 17,
     "metadata": {},
     "output_type": "execute_result"
    },
    {
     "data": {
      "image/png": "[encoded data removed]",
      "text/plain": [
       "<Figure size 432x288 with 1 Axes>"
      ]
     },
     "metadata": {
      "needs_background": "light"
     },
     "output_type": "display_data"
    }
   ],
   "source": [
    "import matplotlib.pyplot as plt\n",
    "plt.scatter(x,y)"
   ]
  },
  {
   "cell_type": "code",
   "execution_count": null,
   "metadata": {},
   "outputs": [],
   "source": []
  }
 ],
 "metadata": {
  "interpreter": {
   "hash": "0adcc2737ebf6a4a119f135174df96668767fca1ef1112612db5ecadf2b6d608"
  },
  "kernelspec": {
   "display_name": "Python 3.8.1 64-bit",
   "language": "python",
   "name": "python3"
  },
  "language_info": {
   "codemirror_mode": {
    "name": "ipython",
    "version": 3
   },
   "file_extension": ".py",
   "mimetype": "text/x-python",
   "name": "python",
   "nbconvert_exporter": "python",
   "pygments_lexer": "ipython3",
   "version": "3.8.1"
  },
  "orig_nbformat": 4
 },
 "nbformat": 4,
 "nbformat_minor": 2
}
